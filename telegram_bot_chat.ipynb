{
 "cells": [
  {
   "cell_type": "markdown",
   "id": "84db5a7e",
   "metadata": {},
   "source": [
    "#### Телеграм-бот-чат:"
   ]
  },
  {
   "cell_type": "code",
   "execution_count": 22,
   "id": "4b2ef42e",
   "metadata": {},
   "outputs": [],
   "source": [
    "# !pip install python_telegram_bot --upgrade"
   ]
  },
  {
   "cell_type": "code",
   "execution_count": 51,
   "id": "54d3874c",
   "metadata": {},
   "outputs": [],
   "source": [
    "import json\n",
    "import random\n",
    "import logging\n",
    "import pickle\n",
    "\n",
    "from nltk import edit_distance\n",
    "from nltk.stem.snowball import SnowballStemmer\n",
    "from sklearn.feature_extraction.text import CountVectorizer\n",
    "from sklearn.linear_model import LogisticRegression\n",
    "from sklearn.ensemble import RandomForestClassifier\n",
    "from sklearn.model_selection import train_test_split\n",
    "from sklearn.metrics import classification_report\n",
    "from nltk.stem.snowball import SnowballStemmer\n",
    "from telegram import Update, ForceReply\n",
    "from telegram.ext import Updater, CommandHandler, MessageHandler, Filters, CallbackContext\n",
    "\n",
    "RANDOM_STATE = 42\n",
    "TOKEN = '5147095577:AAGfjFjbgKfU98gCqmAcKis8rWQ-r2xaYQE'"
   ]
  },
  {
   "cell_type": "code",
   "execution_count": 24,
   "id": "d350ae88",
   "metadata": {},
   "outputs": [],
   "source": [
    "with open('BOT_CONFIG.json', 'r', encoding='utf-8') as file:\n",
    "    BOT_CONFIG = json.load(file)"
   ]
  },
  {
   "cell_type": "code",
   "execution_count": 25,
   "id": "7dec8f29",
   "metadata": {},
   "outputs": [],
   "source": [
    "def clean_text(text):\n",
    "    output_text = ''\n",
    "    for char in text:\n",
    "        if char in ' абвгдеёжзийклмнопрстуфхцчшщъыьэюяabcdefghijklmnopqrstuvwxyz0123456789':\n",
    "            output_text = output_text + char\n",
    "    return output_text"
   ]
  },
  {
   "cell_type": "code",
   "execution_count": 26,
   "id": "b2d4d3a3",
   "metadata": {},
   "outputs": [
    {
     "name": "stdout",
     "output_type": "stream",
     "text": [
      "{'example': ['Твои задачи', 'Что ты можешь', 'Твои функции'], 'response': ['Поговорить с вами!', 'Провести с вами беседу', 'Заболтать вас :)']}\n"
     ]
    }
   ],
   "source": [
    "X = [] \n",
    "Y = []\n",
    "\n",
    "stemmer_rus = SnowballStemmer('russian')\n",
    "for intent in BOT_CONFIG['intents'].keys():\n",
    "    try:\n",
    "        for example in BOT_CONFIG['intents'][intent]['examples']:\n",
    "            X.append(stemmer_rus.stem(clean_text(example)))\n",
    "            Y.append(clean_text(intent))\n",
    "    except KeyError:\n",
    "        print(BOT_CONFIG['intents'][intent])"
   ]
  },
  {
   "cell_type": "code",
   "execution_count": 27,
   "id": "81d2bba7",
   "metadata": {},
   "outputs": [],
   "source": [
    "X_train, X_test, Y_train, Y_test = train_test_split(X, Y, test_size=0.2, random_state=42)"
   ]
  },
  {
   "cell_type": "code",
   "execution_count": 28,
   "id": "ed2dd7c1",
   "metadata": {},
   "outputs": [
    {
     "data": {
      "text/plain": [
       "(1152, 288, 1152, 288)"
      ]
     },
     "execution_count": 28,
     "metadata": {},
     "output_type": "execute_result"
    }
   ],
   "source": [
    "len(X_train), len(X_test), len(Y_train), len(Y_test)"
   ]
  },
  {
   "cell_type": "code",
   "execution_count": 29,
   "id": "0dff7c3e",
   "metadata": {},
   "outputs": [],
   "source": [
    "vectorizer = CountVectorizer(analyzer='char_wb', ngram_range=(2, 4))\n",
    "X_train_vectorized = vectorizer.fit_transform(X_train).toarray()\n",
    "X_test_vectorized = vectorizer.transform(X_test).toarray()"
   ]
  },
  {
   "cell_type": "code",
   "execution_count": 30,
   "id": "080720c1",
   "metadata": {},
   "outputs": [
    {
     "data": {
      "text/plain": [
       "[' 1', ' 1 ', ' 10', ' 10 ', ' 3', ' 30', ' 30 ', ' 4', ' 4 ', ' 5']"
      ]
     },
     "execution_count": 30,
     "metadata": {},
     "output_type": "execute_result"
    }
   ],
   "source": [
    "vectorizer.get_feature_names()[:10]"
   ]
  },
  {
   "cell_type": "code",
   "execution_count": 31,
   "id": "6f988899",
   "metadata": {},
   "outputs": [],
   "source": [
    "model = []\n",
    "model.append(LogisticRegression(random_state=RANDOM_STATE, solver='liblinear', \n",
    "                                class_weight='balanced', intercept_scaling = 5))\n",
    "model.append(RandomForestClassifier(random_state=RANDOM_STATE, min_samples_split=0.3, \n",
    "                                    max_leaf_nodes=100, n_estimators=150, class_weight='balanced'))"
   ]
  },
  {
   "cell_type": "code",
   "execution_count": 32,
   "id": "61d2a142",
   "metadata": {},
   "outputs": [
    {
     "data": {
      "text/plain": [
       "RandomForestClassifier(class_weight='balanced', max_leaf_nodes=100,\n",
       "                       min_samples_split=0.3, n_estimators=150,\n",
       "                       random_state=42)"
      ]
     },
     "execution_count": 32,
     "metadata": {},
     "output_type": "execute_result"
    }
   ],
   "source": [
    "model[0].fit(X_train_vectorized, Y_train)\n",
    "model[1].fit(X_train_vectorized, Y_train)"
   ]
  },
  {
   "cell_type": "code",
   "execution_count": 48,
   "id": "f5fa07a7",
   "metadata": {},
   "outputs": [],
   "source": [
    "# сохранение обученной модели в файл\n",
    "with open('model.pkl', 'wb') as file:\n",
    "    pickle.dump(model[0], file)\n",
    "with open('model.pkl','rb') as file:\n",
    "    model[0] = pickle.load(file)"
   ]
  },
  {
   "cell_type": "code",
   "execution_count": 49,
   "id": "3d9cc271",
   "metadata": {},
   "outputs": [
    {
     "data": {
      "text/plain": [
       "0.8524305555555556"
      ]
     },
     "execution_count": 49,
     "metadata": {},
     "output_type": "execute_result"
    }
   ],
   "source": [
    "model[0].score(X_train_vectorized, Y_train)"
   ]
  },
  {
   "cell_type": "code",
   "execution_count": 34,
   "id": "dce43445",
   "metadata": {},
   "outputs": [
    {
     "data": {
      "text/plain": [
       "0.6310763888888888"
      ]
     },
     "execution_count": 34,
     "metadata": {},
     "output_type": "execute_result"
    }
   ],
   "source": [
    "model[1].score(X_train_vectorized, Y_train)"
   ]
  },
  {
   "cell_type": "code",
   "execution_count": 50,
   "id": "9cf4fe81",
   "metadata": {},
   "outputs": [
    {
     "data": {
      "text/plain": [
       "0.21180555555555555"
      ]
     },
     "execution_count": 50,
     "metadata": {},
     "output_type": "execute_result"
    }
   ],
   "source": [
    "model[0].score(X_test_vectorized, Y_test)"
   ]
  },
  {
   "cell_type": "code",
   "execution_count": 36,
   "id": "4ae78878",
   "metadata": {},
   "outputs": [
    {
     "data": {
      "text/plain": [
       "0.2048611111111111"
      ]
     },
     "execution_count": 36,
     "metadata": {},
     "output_type": "execute_result"
    }
   ],
   "source": [
    "model[1].score(X_test_vectorized, Y_test)"
   ]
  },
  {
   "cell_type": "code",
   "execution_count": 37,
   "id": "fb28dbc0",
   "metadata": {},
   "outputs": [
    {
     "data": {
      "text/plain": [
       "0"
      ]
     },
     "execution_count": 37,
     "metadata": {},
     "output_type": "execute_result"
    }
   ],
   "source": [
    "model_num = 0 if (model[0].score(X_test_vectorized, Y_test) > model[1].score(X_test_vectorized, Y_test)) else 1\n",
    "model_num"
   ]
  },
  {
   "cell_type": "code",
   "execution_count": 44,
   "id": "5b8f381c",
   "metadata": {},
   "outputs": [
    {
     "name": "stdout",
     "output_type": "stream",
     "text": [
      "                                          precision    recall  f1-score   support\n",
      "\n",
      "                             aboutdrinks       0.00      0.00      0.00         0\n",
      "                                   abuse       0.00      0.00      0.00         0\n",
      "                            acquaintance       0.00      0.00      0.00         0\n",
      "                                  action       1.00      1.00      1.00         1\n",
      "                                activity       0.00      0.00      0.00         0\n",
      "                                  adress       0.00      0.00      0.00         2\n",
      "                                     age       1.00      0.25      0.40         4\n",
      "                                 angryeq       0.00      0.00      0.00         1\n",
      "                                  answer       0.00      0.00      0.00         0\n",
      "                                 apology       0.00      0.00      0.00         0\n",
      "                                approval       0.00      0.00      0.00         0\n",
      "                            are you here       0.00      0.00      0.00         1\n",
      "                              areyouabot       0.00      0.00      0.00         1\n",
      "                             areyoubored       0.00      0.00      0.00         1\n",
      "                              areyoubusy       0.00      0.00      0.00         4\n",
      "                            areyouhungry       0.00      0.00      0.00         1\n",
      "                            askaquestion       1.00      0.17      0.29         6\n",
      "                              askforhelp       0.00      0.00      0.00         1\n",
      "                              badweather       0.00      0.00      0.00         3\n",
      "                               beginning       0.00      0.00      0.00         0\n",
      "                                    book       0.00      0.00      0.00         0\n",
      "                                   bored       0.00      0.00      0.00         0\n",
      "                                  boring       0.00      0.00      0.00         1\n",
      "                                     bot       0.00      0.00      0.00         1\n",
      "                                   bully       0.00      0.00      0.00         0\n",
      "                                     bye       0.00      0.00      0.00         1\n",
      "                              canicomein       0.00      0.00      0.00         0\n",
      "                                canihelp       0.00      0.00      0.00         0\n",
      "                                     car       0.00      0.00      0.00         0\n",
      "                                cartoons       1.00      1.00      1.00         1\n",
      "                                  cheesy       0.00      0.00      0.00         1\n",
      "                            chooseacolor       0.00      0.00      0.00         2\n",
      "                                  cinema       0.00      0.00      0.00         1\n",
      "                                  coffee       0.00      0.00      0.00         1\n",
      "                                   color       0.00      0.00      0.00         0\n",
      "                              compliment       0.00      0.00      0.00         0\n",
      "                                  ddress       0.00      0.00      0.00         0\n",
      "                                delivery       0.00      0.00      0.00         1\n",
      "                                  desire       0.00      0.00      0.00         1\n",
      "                                 details       0.67      1.00      0.80         2\n",
      "                                  device       1.00      0.50      0.67         2\n",
      "                                displays       1.00      1.00      1.00         2\n",
      "                             displayskit       1.00      1.00      1.00         3\n",
      "                            displaysorig       1.00      1.00      1.00         2\n",
      "                                   doubt       0.00      0.00      0.00         0\n",
      "                       doyouwatchtvshows       1.00      1.00      1.00         1\n",
      "                                  eating       0.50      0.50      0.50         2\n",
      "                               education       1.00      1.00      1.00         1\n",
      "                                  entity       0.00      0.00      0.00         1\n",
      "                              estimation       0.00      0.00      0.00         0\n",
      "                           favoritemovie       1.00      0.25      0.40         4\n",
      "                          favoritewriter       1.00      0.50      0.67         2\n",
      "                           favouritedish       1.00      0.50      0.67         2\n",
      "                                    film       0.00      0.00      0.00         3\n",
      "                           firstquestion       1.00      0.33      0.50         3\n",
      "                                football       0.00      0.00      0.00         1\n",
      "                                  friday       0.00      0.00      0.00         0\n",
      "                              friendlist       1.00      1.00      1.00         1\n",
      "                                 friends       0.00      0.00      0.00         1\n",
      "                                      fu       0.00      0.00      0.00         1\n",
      "                              gameboards       0.00      0.00      0.00         0\n",
      "                                  gender       0.00      0.00      0.00         0\n",
      "                              girlfriend       0.00      0.00      0.00         2\n",
      "                                 goodbye       0.00      0.00      0.00         0\n",
      "                                 goodday       0.00      0.00      0.00         3\n",
      "                           gotothecinema       0.00      0.00      0.00         0\n",
      "                               gratitude       0.00      0.00      0.00         0\n",
      "                                   great       0.00      0.00      0.00         0\n",
      "                                  health       0.00      0.00      0.00         0\n",
      "                                   hello       0.00      0.00      0.00         1\n",
      "                                    help       0.00      0.00      0.00         1\n",
      "                                  helpme       0.00      0.00      0.00         0\n",
      "                                 history       0.00      0.00      0.00         2\n",
      "                                  hobbbi       0.00      0.00      0.00         1\n",
      "                                   hobby       0.00      0.00      0.00         0\n",
      "                               hotdrinks       0.00      0.00      0.00         0\n",
      "                                     how       0.00      0.00      0.00         0\n",
      "                             how are you       0.00      0.00      0.00         1\n",
      "                                 how old       0.00      0.00      0.00         0\n",
      "                               howareyou       0.33      0.12      0.18         8\n",
      "                            howdoyoufeel       1.00      1.00      1.00         1\n",
      "                               howdoyudo       0.00      0.00      0.00         0\n",
      "                        howismasterclass       1.00      1.00      1.00         1\n",
      "                           howisyourmood       0.00      0.00      0.00         4\n",
      "                                 howmach       0.00      0.00      0.00         2\n",
      "                                  howold       0.00      0.00      0.00         0\n",
      "                          howstheweather       0.00      0.00      0.00         0\n",
      "                                   human       0.00      0.00      0.00         0\n",
      "                                  hungry       0.00      0.00      0.00         0\n",
      "                        ihaveoneqwestion       0.00      0.00      0.00         0\n",
      "                                 illness       1.00      1.00      1.00         1\n",
      "                                iloveyou       0.00      0.00      0.00         5\n",
      "                                 imbored       0.00      0.00      0.00         0\n",
      "                                  insult       0.00      0.00      0.00         0\n",
      "                                interest       0.00      0.00      0.00         1\n",
      "                               interests       0.00      0.00      0.00         1\n",
      "                                   isbot       0.00      0.00      0.00         1\n",
      "                              isbuypizza       0.00      0.00      0.00         1\n",
      "                                 justfun       0.00      0.00      0.00         1\n",
      "                              knockknock       1.00      0.50      0.67         2\n",
      "                                   letov       1.00      1.00      1.00         1\n",
      "                                letschat       0.00      0.00      0.00         2\n",
      "                                letsmeet       0.00      0.00      0.00         1\n",
      "                                letstalk       0.00      0.00      0.00         0\n",
      "                                 library       1.00      1.00      1.00         1\n",
      "                                    like       0.00      0.00      0.00         0\n",
      "                                location       0.00      0.00      0.00         1\n",
      "                                    love       0.00      0.00      0.00         0\n",
      "                               magicball       0.00      0.00      0.00         1\n",
      "                     mayiaskyouaquestion       0.00      0.00      0.00         2\n",
      "                                    meal       0.00      0.00      0.00         1\n",
      "                                 meeting       0.00      0.00      0.00         2\n",
      "                                    mood       0.00      0.00      0.00         2\n",
      "                                    move       0.00      0.00      0.00         2\n",
      "                                   movie       0.00      0.00      0.00         3\n",
      "                                  movies       0.00      0.00      0.00         0\n",
      "                            movietowatch       0.00      0.00      0.00         0\n",
      "                                   music       0.00      0.00      0.00         0\n",
      "                                   myzik       1.00      1.00      1.00         1\n",
      "                                    name       0.00      0.00      0.00         1\n",
      "                                negative       0.00      0.00      0.00         0\n",
      "              negativeresponsehowdoyoudo       0.00      0.00      0.00         0\n",
      "                                 niceday       0.00      0.00      0.00         0\n",
      "                           nicetomeetyou       1.00      1.00      1.00         1\n",
      "                                      no       1.00      1.00      1.00         1\n",
      "                                     now       0.00      0.00      0.00         1\n",
      "                                  online       1.00      0.50      0.67         2\n",
      "                                operator       0.00      0.00      0.00         1\n",
      "                                 opinion       0.00      0.00      0.00         0\n",
      "                                   order       0.00      0.00      0.00         0\n",
      "                                   osebe       1.00      0.50      0.67         2\n",
      "                              phylosophy       0.00      0.00      0.00         0\n",
      "                                  pickup       0.00      0.00      0.00         1\n",
      "                                   pizza       0.00      0.00      0.00         0\n",
      "                                   plans       0.00      0.00      0.00         0\n",
      "                        plansfortomorrow       1.00      0.33      0.50         3\n",
      "                                   plays       0.00      0.00      0.00         3\n",
      "                                    poem       0.00      0.00      0.00         2\n",
      "                                   poems       0.00      0.00      0.00         0\n",
      "                                politics       0.00      0.00      0.00         1\n",
      "              positiveresponsehowdoyoudo       0.00      0.00      0.00         1\n",
      "                                     pro       0.00      0.00      0.00         0\n",
      "                              profession       1.00      0.33      0.50         3\n",
      "                             programming       0.00      0.00      0.00         2\n",
      "                                purchase       0.50      1.00      0.67         1\n",
      "                                purposes       1.00      0.25      0.40         4\n",
      "                                question       0.00      0.00      0.00         0\n",
      "                              questions1       0.00      0.00      0.00         0\n",
      "                                    rain       0.00      0.00      0.00         1\n",
      "                                  random       0.00      0.00      0.00         0\n",
      "                              randomgame       0.00      0.00      0.00         1\n",
      "                                 refunds       1.00      0.33      0.50         3\n",
      "                                 request       0.67      1.00      0.80         2\n",
      "                              requisites       0.00      0.00      0.00         0\n",
      "                                rudeness       0.00      0.00      0.00         1\n",
      "                                 sadness       1.00      1.00      1.00         1\n",
      "                                  scroll       0.00      0.00      0.00         1\n",
      "                     selectionofananalog       1.00      1.00      1.00         1\n",
      "                                services       1.00      1.00      1.00         2\n",
      "                                    sing       0.00      0.00      0.00         1\n",
      "                                   skill       0.00      0.00      0.00         1\n",
      "                                  skills       0.00      0.00      0.00         2\n",
      "                                   sleep       0.00      0.00      0.00         1\n",
      "                               smalltalk       0.00      0.00      0.00         3\n",
      "                                somecode       0.00      0.00      0.00         0\n",
      "                                    song       0.00      0.00      0.00         2\n",
      "                                   spell       0.00      0.00      0.00         0\n",
      "                                   sport       0.00      0.00      0.00         1\n",
      "                                  status       0.00      0.00      0.00         2\n",
      "                                    stop       0.00      0.00      0.00         0\n",
      "                                    talk       0.00      0.00      0.00         3\n",
      "                                 targets       0.00      0.00      0.00         0\n",
      "                                telljoke       1.00      1.00      1.00         1\n",
      "                              tellmejoke       0.00      0.00      0.00         2\n",
      "                                  thanks       0.00      0.00      0.00         0\n",
      "                                thankyou       0.00      0.00      0.00         2\n",
      "                              theweather       0.00      0.00      0.00         1\n",
      "                                    thks       0.00      0.00      0.00         1\n",
      "                                    time       0.00      0.00      0.00         5\n",
      "                                todolist       0.00      0.00      0.00         0\n",
      "                                    town       1.00      0.50      0.67         2\n",
      "                             travelqanda       0.00      0.00      0.00         0\n",
      "                           typeofpayment       1.00      1.00      1.00         1\n",
      "                           typesofburger       0.50      1.00      0.67         1\n",
      "                            typesofpizza       0.00      0.00      0.00         1\n",
      "                  typesquestionshotoshop       0.00      0.00      0.00         0\n",
      "                     typesquestionsython       0.00      0.00      0.00         0\n",
      "                         usersbademotion       0.00      0.00      0.00         1\n",
      "                        usersgoodemotion       0.00      0.00      0.00         2\n",
      "                                   uthor       0.00      0.00      0.00         2\n",
      "                                variant2       1.00      0.67      0.80         3\n",
      "                                violence       0.00      0.00      0.00         0\n",
      "                            waitfororder       0.00      0.00      0.00         0\n",
      "                             wanttoorder       0.00      0.00      0.00         3\n",
      "                                    wear       0.00      0.00      0.00         1\n",
      "                                 weather       0.00      0.00      0.00         0\n",
      "                         weatherforecast       0.00      0.00      0.00         0\n",
      "                            weathertoday       0.00      0.00      0.00         0\n",
      "                                  wether       0.33      0.25      0.29         4\n",
      "                                    what       0.00      0.00      0.00         0\n",
      "           what is your favourite colour       0.00      0.00      0.00         0\n",
      "what is your favourite subject at school       0.00      0.00      0.00         0\n",
      "                              whatareyou       0.00      0.00      0.00         1\n",
      "                         whatareyoudoing       0.00      0.00      0.00         0\n",
      "                  whatareyouinterestedin       0.00      0.00      0.00         1\n",
      "                    whatareyouthinkingof       0.50      0.50      0.50         2\n",
      "                          whatareyouupto       0.00      0.00      0.00         1\n",
      "                                 whatcan       0.00      0.00      0.00         2\n",
      "                            whatcanyoudo       0.00      0.00      0.00         1\n",
      "                            whatdaytoday       0.00      0.00      0.00         4\n",
      "                           whatdoyoulike       0.00      0.00      0.00         0\n",
      "                        whatdoyousuggest       0.00      0.00      0.00         1\n",
      "                           whatdoyouwant       0.00      0.00      0.00         0\n",
      "                                whatelse       0.00      0.00      0.00         2\n",
      "                               whatisnew       0.00      0.00      0.00         2\n",
      "                        whatistheweather       0.00      0.00      0.00         2\n",
      "                   whatistheweathertoday       0.00      0.00      0.00         1\n",
      "                             whatisuname       0.00      0.00      0.00         0\n",
      "                          whatisyourname       0.00      0.00      0.00         1\n",
      "                                 whatnew       0.00      0.00      0.00         1\n",
      "                                whatnews       1.00      1.00      1.00         1\n",
      "                             whatoyuwant       0.00      0.00      0.00         1\n",
      "                               whatplans       0.00      0.00      0.00         3\n",
      "               whatplatformisyourphoneon       1.00      0.50      0.67         2\n",
      "                           whatshouldido       0.00      0.00      0.00         2\n",
      "                                 whatsup       0.50      1.00      0.67         1\n",
      "                           whatsyourmood       0.00      0.00      0.00         3\n",
      "                           whatsyourname       0.00      0.00      0.00         0\n",
      "                            whattimeisit       0.00      0.00      0.00         1\n",
      "                              whattoread       0.00      0.00      0.00         2\n",
      "                           whatwillyoudo       0.00      0.00      0.00         2\n",
      "                    whatwouldyouliketodo       0.00      0.00      0.00         1\n",
      "                              whatyoucan       0.00      0.00      0.00         1\n",
      "                            whatyoudoing       0.00      0.00      0.00         1\n",
      "                             whatyourjob       0.00      0.00      0.00         0\n",
      "                            whatyourname       0.00      0.00      0.00         0\n",
      "                             whatyouwant       0.00      0.00      0.00         0\n",
      "                                wheather       0.00      0.00      0.00         0\n",
      "                whenitisconvenientforyou       0.00      0.00      0.00         3\n",
      "                                   where       0.00      0.00      0.00         0\n",
      "                             whereareyou       0.00      0.00      0.00         0\n",
      "                          wheredoyoulive       0.50      1.00      0.67         1\n",
      "                               wheretogo       0.00      0.00      0.00         0\n",
      "                                 whether       0.00      0.00      0.00         2\n",
      "                                   while       0.00      0.00      0.00         1\n",
      "                                     who       0.50      0.33      0.40         3\n",
      "                                 whoareu       0.00      0.00      0.00         0\n",
      "                               whoareyou       0.00      0.00      0.00         0\n",
      "                                     why       0.00      0.00      0.00         3\n",
      "                                    work       0.00      0.00      0.00         0\n",
      "                               work time       1.00      0.33      0.50         3\n",
      "                                 working       0.00      0.00      0.00         0\n",
      "                                     yes       0.00      0.00      0.00         1\n",
      "                               yourplans       0.00      0.00      0.00         0\n",
      "                           благодарность       0.00      0.00      0.00         2\n",
      "                                  ошибка       0.00      0.00      0.00         1\n",
      "              приветствие неопределенное       0.00      0.00      0.00         0\n",
      "                       приветствие утром       0.00      0.00      0.00         1\n",
      "                                 решение       0.00      0.00      0.00         1\n",
      "\n",
      "                                accuracy                           0.20       288\n",
      "                               macro avg       0.18      0.14      0.15       288\n",
      "                            weighted avg       0.32      0.20      0.23       288\n",
      "\n"
     ]
    },
    {
     "name": "stderr",
     "output_type": "stream",
     "text": [
      "D:\\Users\\xiaomi\\anaconda3\\lib\\site-packages\\sklearn\\metrics\\_classification.py:1245: UndefinedMetricWarning: Precision and F-score are ill-defined and being set to 0.0 in labels with no predicted samples. Use `zero_division` parameter to control this behavior.\n",
      "  _warn_prf(average, modifier, msg_start, len(result))\n",
      "D:\\Users\\xiaomi\\anaconda3\\lib\\site-packages\\sklearn\\metrics\\_classification.py:1245: UndefinedMetricWarning: Recall and F-score are ill-defined and being set to 0.0 in labels with no true samples. Use `zero_division` parameter to control this behavior.\n",
      "  _warn_prf(average, modifier, msg_start, len(result))\n",
      "D:\\Users\\xiaomi\\anaconda3\\lib\\site-packages\\sklearn\\metrics\\_classification.py:1245: UndefinedMetricWarning: Precision and F-score are ill-defined and being set to 0.0 in labels with no predicted samples. Use `zero_division` parameter to control this behavior.\n",
      "  _warn_prf(average, modifier, msg_start, len(result))\n",
      "D:\\Users\\xiaomi\\anaconda3\\lib\\site-packages\\sklearn\\metrics\\_classification.py:1245: UndefinedMetricWarning: Recall and F-score are ill-defined and being set to 0.0 in labels with no true samples. Use `zero_division` parameter to control this behavior.\n",
      "  _warn_prf(average, modifier, msg_start, len(result))\n",
      "D:\\Users\\xiaomi\\anaconda3\\lib\\site-packages\\sklearn\\metrics\\_classification.py:1245: UndefinedMetricWarning: Precision and F-score are ill-defined and being set to 0.0 in labels with no predicted samples. Use `zero_division` parameter to control this behavior.\n",
      "  _warn_prf(average, modifier, msg_start, len(result))\n",
      "D:\\Users\\xiaomi\\anaconda3\\lib\\site-packages\\sklearn\\metrics\\_classification.py:1245: UndefinedMetricWarning: Recall and F-score are ill-defined and being set to 0.0 in labels with no true samples. Use `zero_division` parameter to control this behavior.\n",
      "  _warn_prf(average, modifier, msg_start, len(result))\n"
     ]
    }
   ],
   "source": [
    "Y_preds = model[1].predict(X_test_vectorized)\n",
    "print(classification_report(Y_preds, Y_test))"
   ]
  },
  {
   "cell_type": "code",
   "execution_count": 38,
   "id": "a75ecbf2",
   "metadata": {},
   "outputs": [],
   "source": [
    "def get_intent(input_text, model_num):\n",
    "    return model[model_num].predict(vectorizer.transform([input_text]))[0]"
   ]
  },
  {
   "cell_type": "code",
   "execution_count": 39,
   "id": "06c40d32",
   "metadata": {},
   "outputs": [],
   "source": [
    "def bot(input_text):\n",
    "    intent = get_intent(input_text, model_num)\n",
    "    return random.choice(BOT_CONFIG['intents'][intent]['responses'])"
   ]
  },
  {
   "cell_type": "code",
   "execution_count": 40,
   "id": "071f9e14",
   "metadata": {},
   "outputs": [
    {
     "name": "stdout",
     "output_type": "stream",
     "text": [
      "Для выхода из диалога напишите 'Выход'\n",
      "выход\n"
     ]
    }
   ],
   "source": [
    "print('Для выхода из диалога напишите \\'Выход\\'')\n",
    "while True:\n",
    "    input_text = input()\n",
    "    if input_text == '':\n",
    "        print('Вы ничего не ввели.')\n",
    "    elif clean_text(input_text.lower()) == 'выход': # clean_text('Выход'.lower()):\n",
    "        break\n",
    "    else:\n",
    "        print(bot(input_text))\n",
    "    "
   ]
  },
  {
   "cell_type": "code",
   "execution_count": 52,
   "id": "79582f1b",
   "metadata": {},
   "outputs": [],
   "source": [
    "# Define a few command handlers. These usually take the two arguments update and\n",
    "# context.\n",
    "def start(update: Update, context: CallbackContext) -> None:\n",
    "    \"\"\"Send a message when the command /start is issued.\"\"\"\n",
    "    user = update.effective_user\n",
    "    update.message.reply_markdown_v2(\n",
    "        fr'Hi {user.mention_markdown_v2()}\\!',\n",
    "        reply_markup=ForceReply(selective=True),\n",
    "    )\n",
    "\n",
    "\n",
    "def help_command(update: Update, context: CallbackContext) -> None:\n",
    "    \"\"\"Send a message when the command /help is issued.\"\"\"\n",
    "    update.message.reply_text('Help!')\n",
    "\n",
    "\n",
    "def echo(update: Update, context: CallbackContext) -> None:\n",
    "    \"\"\"Echo the user message.\"\"\"\n",
    "    update.message.reply_text(bot(update.message.text))\n",
    "\n",
    "\n",
    "def main() -> None:\n",
    "    \"\"\"Start the bot.\"\"\"\n",
    "    # Create the Updater and pass it your bot's token.\n",
    "    updater = Updater(TOKEN)\n",
    "\n",
    "    # Get the dispatcher to register handlers\n",
    "    dispatcher = updater.dispatcher\n",
    "\n",
    "    # on different commands - answer in Telegram\n",
    "    dispatcher.add_handler(CommandHandler(\"start\", start))\n",
    "    dispatcher.add_handler(CommandHandler(\"help\", help_command))\n",
    "\n",
    "    # on non command i.e message - echo the message on Telegram\n",
    "    dispatcher.add_handler(MessageHandler(Filters.text & ~Filters.command, echo))\n",
    "\n",
    "    # Start the Bot\n",
    "    updater.start_polling()\n",
    "\n",
    "    # Run the bot until you press Ctrl-C or the process receives SIGINT,\n",
    "    # SIGTERM or SIGABRT. This should be used most of the time, since\n",
    "    # start_polling() is non-blocking and will stop the bot gracefully.\n",
    "    updater.idle()\n"
   ]
  },
  {
   "cell_type": "code",
   "execution_count": null,
   "id": "c6c3f230",
   "metadata": {},
   "outputs": [],
   "source": [
    "main()"
   ]
  },
  {
   "cell_type": "code",
   "execution_count": null,
   "id": "4caecb50",
   "metadata": {},
   "outputs": [],
   "source": []
  }
 ],
 "metadata": {
  "kernelspec": {
   "display_name": "Python 3",
   "language": "python",
   "name": "python3"
  },
  "language_info": {
   "codemirror_mode": {
    "name": "ipython",
    "version": 3
   },
   "file_extension": ".py",
   "mimetype": "text/x-python",
   "name": "python",
   "nbconvert_exporter": "python",
   "pygments_lexer": "ipython3",
   "version": "3.8.8"
  }
 },
 "nbformat": 4,
 "nbformat_minor": 5
}
